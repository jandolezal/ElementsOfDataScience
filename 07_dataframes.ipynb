{
 "cells": [
  {
   "cell_type": "markdown",
   "metadata": {},
   "source": [
    "# Dataframes\n",
    "\n",
    "Elements of Data Science\n",
    "\n",
    "by [Allen Downey](https://allendowney.com)\n",
    "\n",
    "[MIT License](https://opensource.org/licenses/MIT)\n",
    "\n",
    "### Goals\n",
    "\n",
    "This notebook introduces Pandas, which is a powerful library for working with data.  Pandas provides functions for reading data from files, and it provides two new types for working with data, DataFrames and Series.\n",
    "\n",
    "We'll use these tools to estimate the average birth weight of babies in the U.S.  This example demonstrates the important steps in almost any data science project:\n",
    "\n",
    "1. Identifying data that can answer a question.\n",
    "\n",
    "2. Obtaining the data and loading it in Python.\n",
    "\n",
    "3. Checking the data and dealing with errors.\n",
    "\n",
    "4. Selecting the relevant subsets from the data.\n",
    "\n",
    "5. Using histograms to visualize a distribution of values.\n",
    "\n",
    "6. Using summary statistics to describe the data in a way that best answers the question.\n",
    "\n",
    "7. Considering possible sources of error and limitations in our conclusions.\n",
    "\n",
    "Because this notebook presents a data science project from end to end, it is a little longer than some of the previous notebooks.  So, hang in there!"
   ]
  },
  {
   "cell_type": "markdown",
   "metadata": {},
   "source": [
    "# DataFrames and Series\n",
    "\n",
    "The fundamental goal of data science is to use data to answer questions and guide decision making.\n",
    "\n",
    "As an example, we'll start with a simple question: what is the average birth weight of babies in the United States?\n",
    "\n",
    "To answer a question like this, we have to find an appropriate dataset or run an experiment to collect it.  Then we have to get the data into our development environment and prepare it for analysis, which involves cleaning and validation.\n",
    "\n",
    "For this question we'll use data from the [National Survey of Family Growth](https://www.cdc.gov/nchs/nsfg/index.htm), which is available from the National Center for Health Statistics.\n",
    "\n",
    "Their 2013-2015 dataset includes information about a sample of women in the U.S. and their children.  \n",
    "\n",
    "The Python library we'll use to read and analyze data is Pandas, which we'll import as `pd`."
   ]
  },
  {
   "cell_type": "code",
   "execution_count": 1,
   "metadata": {},
   "outputs": [],
   "source": [
    "import pandas as pd"
   ]
  },
  {
   "cell_type": "markdown",
   "metadata": {},
   "source": [
    "Pandas can read data in most common formats, including CSV, Excel, and the format the NSFG data is in, HDF5.  [You can read about HDF here](https://en.wikipedia.org/wiki/Hierarchical_Data_Format)."
   ]
  },
  {
   "cell_type": "code",
   "execution_count": 2,
   "metadata": {},
   "outputs": [],
   "source": [
    "import os\n",
    "\n",
    "if not os.path.exists('nsfg.hdf5'):\n",
    "    !wget https://github.com/AllenDowney/ElementsOfDataScience/raw/master/nsfg.hdf5"
   ]
  },
  {
   "cell_type": "code",
   "execution_count": 3,
   "metadata": {},
   "outputs": [
    {
     "data": {
      "text/plain": [
       "pandas.core.frame.DataFrame"
      ]
     },
     "execution_count": 3,
     "metadata": {},
     "output_type": "execute_result"
    }
   ],
   "source": [
    "nsfg = pd.read_hdf('nsfg.hdf5')\n",
    "type(nsfg)"
   ]
  },
  {
   "cell_type": "markdown",
   "metadata": {},
   "source": [
    "The result from `read_hdf()` is a DataFrame, which is the primary type Pandas uses to store data.\n",
    "\n",
    "For each woman who participated in the survey, this DataFrame has one row for each pregnancy and one column for each survey question.\n",
    "\n",
    "DataFrame has a method called `head()` that shows the first 5 rows:"
   ]
  },
  {
   "cell_type": "code",
   "execution_count": 4,
   "metadata": {},
   "outputs": [
    {
     "data": {
      "text/html": [
       "<div>\n",
       "<style scoped>\n",
       "    .dataframe tbody tr th:only-of-type {\n",
       "        vertical-align: middle;\n",
       "    }\n",
       "\n",
       "    .dataframe tbody tr th {\n",
       "        vertical-align: top;\n",
       "    }\n",
       "\n",
       "    .dataframe thead th {\n",
       "        text-align: right;\n",
       "    }\n",
       "</style>\n",
       "<table border=\"1\" class=\"dataframe\">\n",
       "  <thead>\n",
       "    <tr style=\"text-align: right;\">\n",
       "      <th></th>\n",
       "      <th>caseid</th>\n",
       "      <th>outcome</th>\n",
       "      <th>birthwgt_lb1</th>\n",
       "      <th>birthwgt_oz1</th>\n",
       "      <th>prglngth</th>\n",
       "      <th>nbrnaliv</th>\n",
       "      <th>agecon</th>\n",
       "      <th>agepreg</th>\n",
       "      <th>birthord</th>\n",
       "      <th>hpagelb</th>\n",
       "      <th>wgt2013_2015</th>\n",
       "    </tr>\n",
       "  </thead>\n",
       "  <tbody>\n",
       "    <tr>\n",
       "      <th>0</th>\n",
       "      <td>60418</td>\n",
       "      <td>1</td>\n",
       "      <td>5.0</td>\n",
       "      <td>4.0</td>\n",
       "      <td>40</td>\n",
       "      <td>1.0</td>\n",
       "      <td>2000</td>\n",
       "      <td>2075.0</td>\n",
       "      <td>1.0</td>\n",
       "      <td>22.0</td>\n",
       "      <td>3554.964843</td>\n",
       "    </tr>\n",
       "    <tr>\n",
       "      <th>1</th>\n",
       "      <td>60418</td>\n",
       "      <td>1</td>\n",
       "      <td>4.0</td>\n",
       "      <td>12.0</td>\n",
       "      <td>36</td>\n",
       "      <td>1.0</td>\n",
       "      <td>2291</td>\n",
       "      <td>2358.0</td>\n",
       "      <td>2.0</td>\n",
       "      <td>25.0</td>\n",
       "      <td>3554.964843</td>\n",
       "    </tr>\n",
       "    <tr>\n",
       "      <th>2</th>\n",
       "      <td>60418</td>\n",
       "      <td>1</td>\n",
       "      <td>5.0</td>\n",
       "      <td>4.0</td>\n",
       "      <td>36</td>\n",
       "      <td>1.0</td>\n",
       "      <td>3241</td>\n",
       "      <td>3308.0</td>\n",
       "      <td>3.0</td>\n",
       "      <td>52.0</td>\n",
       "      <td>3554.964843</td>\n",
       "    </tr>\n",
       "    <tr>\n",
       "      <th>3</th>\n",
       "      <td>60419</td>\n",
       "      <td>6</td>\n",
       "      <td>NaN</td>\n",
       "      <td>NaN</td>\n",
       "      <td>33</td>\n",
       "      <td>NaN</td>\n",
       "      <td>3650</td>\n",
       "      <td>NaN</td>\n",
       "      <td>NaN</td>\n",
       "      <td>NaN</td>\n",
       "      <td>2484.535358</td>\n",
       "    </tr>\n",
       "    <tr>\n",
       "      <th>4</th>\n",
       "      <td>60420</td>\n",
       "      <td>1</td>\n",
       "      <td>8.0</td>\n",
       "      <td>13.0</td>\n",
       "      <td>41</td>\n",
       "      <td>1.0</td>\n",
       "      <td>2191</td>\n",
       "      <td>2266.0</td>\n",
       "      <td>1.0</td>\n",
       "      <td>24.0</td>\n",
       "      <td>2903.782914</td>\n",
       "    </tr>\n",
       "  </tbody>\n",
       "</table>\n",
       "</div>"
      ],
      "text/plain": [
       "   caseid  outcome  birthwgt_lb1  birthwgt_oz1  prglngth  nbrnaliv  agecon  \\\n",
       "0   60418        1           5.0           4.0        40       1.0    2000   \n",
       "1   60418        1           4.0          12.0        36       1.0    2291   \n",
       "2   60418        1           5.0           4.0        36       1.0    3241   \n",
       "3   60419        6           NaN           NaN        33       NaN    3650   \n",
       "4   60420        1           8.0          13.0        41       1.0    2191   \n",
       "\n",
       "   agepreg  birthord  hpagelb  wgt2013_2015  \n",
       "0   2075.0       1.0     22.0   3554.964843  \n",
       "1   2358.0       2.0     25.0   3554.964843  \n",
       "2   3308.0       3.0     52.0   3554.964843  \n",
       "3      NaN       NaN      NaN   2484.535358  \n",
       "4   2266.0       1.0     24.0   2903.782914  "
      ]
     },
     "execution_count": 4,
     "metadata": {},
     "output_type": "execute_result"
    }
   ],
   "source": [
    "nsfg.head()"
   ]
  },
  {
   "cell_type": "markdown",
   "metadata": {},
   "source": [
    "DataFrames provide \"attributes\" and \"methods\".\n",
    "\n",
    "A method is a function that is associated with a particular type.  For example, in a previous notebook, we used the `split` method, which is a function that works with strings.\n",
    "\n",
    "An attribute is a variable associated with a particular type.  For example, DataFrame has an attribute called `shape`, which is the number of rows and columns:"
   ]
  },
  {
   "cell_type": "code",
   "execution_count": 5,
   "metadata": {},
   "outputs": [
    {
     "data": {
      "text/plain": [
       "(9358, 11)"
      ]
     },
     "execution_count": 5,
     "metadata": {},
     "output_type": "execute_result"
    }
   ],
   "source": [
    "nsfg.shape"
   ]
  },
  {
   "cell_type": "markdown",
   "metadata": {},
   "source": [
    "There are 9358 rows in this dataset, one for each pregnancy, and 11 columns, one for each survey question.\n",
    "\n",
    "DataFrame also has an attribute called `columns`, which contains the column names:"
   ]
  },
  {
   "cell_type": "code",
   "execution_count": 6,
   "metadata": {},
   "outputs": [
    {
     "data": {
      "text/plain": [
       "Index(['caseid', 'outcome', 'birthwgt_lb1', 'birthwgt_oz1', 'prglngth',\n",
       "       'nbrnaliv', 'agecon', 'agepreg', 'birthord', 'hpagelb', 'wgt2013_2015'],\n",
       "      dtype='object')"
      ]
     },
     "execution_count": 6,
     "metadata": {},
     "output_type": "execute_result"
    }
   ],
   "source": [
    "nsfg.columns"
   ]
  },
  {
   "cell_type": "markdown",
   "metadata": {},
   "source": [
    "The column names are stored in an `Index`, which is another Pandas type, similar to a list:"
   ]
  },
  {
   "cell_type": "code",
   "execution_count": 7,
   "metadata": {},
   "outputs": [
    {
     "data": {
      "text/plain": [
       "pandas.core.indexes.base.Index"
      ]
     },
     "execution_count": 7,
     "metadata": {},
     "output_type": "execute_result"
    }
   ],
   "source": [
    "type(nsfg.columns)"
   ]
  },
  {
   "cell_type": "markdown",
   "metadata": {},
   "source": [
    "Based on the column names, you might be able to guess what some of the variables are, but in general you have to read the documentation."
   ]
  },
  {
   "cell_type": "markdown",
   "metadata": {},
   "source": [
    "**Exercise:** When you work with datasets like the NSFG, it is important to read the documentation carefully. If you interpret a variable incorrectly, you can generate nonsense results and never realize it. So, before we start looking at data, let's get familiar with the NSFG codebook, which describes every variable.\n",
    "\n",
    "* Follow [this link](https://www.icpsr.umich.edu/icpsradmin/nsfg/index?studyNumber=9999) to get to the interactive codebook.\n",
    "\n",
    "* Type \"birthweight\" in the search field, un-select the checkbox that says \"Search variable name only\", and press \"Search\".  You should see a list of variables related to birthweight.\n",
    "\n",
    "* Click on \"BIRTHWGT_LB1\" and read the documentation of this variable. \n",
    "\n",
    "What is the most common value of this variable?"
   ]
  },
  {
   "cell_type": "markdown",
   "metadata": {},
   "source": [
    "*Most common value is 7 pounds.*"
   ]
  },
  {
   "cell_type": "code",
   "execution_count": 8,
   "metadata": {},
   "outputs": [
    {
     "data": {
      "text/plain": [
       "count    6485.000000\n",
       "mean        8.055204\n",
       "std        11.178893\n",
       "min         0.000000\n",
       "25%         6.000000\n",
       "50%         7.000000\n",
       "75%         8.000000\n",
       "max        99.000000\n",
       "Name: birthwgt_lb1, dtype: float64"
      ]
     },
     "execution_count": 8,
     "metadata": {},
     "output_type": "execute_result"
    }
   ],
   "source": [
    "nsfg.birthwgt_lb1.describe()"
   ]
  },
  {
   "cell_type": "code",
   "execution_count": 9,
   "metadata": {},
   "outputs": [
    {
     "data": {
      "text/plain": [
       "0    7.0\n",
       "dtype: float64"
      ]
     },
     "execution_count": 9,
     "metadata": {},
     "output_type": "execute_result"
    }
   ],
   "source": [
    "nsfg.birthwgt_lb1.mode()"
   ]
  },
  {
   "cell_type": "markdown",
   "metadata": {},
   "source": [
    "## Series\n",
    "\n",
    "In many ways a DataFrame is like a Python dictionary, where the column names are the keys and the columns are the values.  You can select a column from a DataFrame using the bracket operator, with a string as the key."
   ]
  },
  {
   "cell_type": "code",
   "execution_count": 10,
   "metadata": {},
   "outputs": [
    {
     "data": {
      "text/plain": [
       "pandas.core.series.Series"
      ]
     },
     "execution_count": 10,
     "metadata": {},
     "output_type": "execute_result"
    }
   ],
   "source": [
    "pounds = nsfg['birthwgt_lb1']\n",
    "type(pounds)"
   ]
  },
  {
   "cell_type": "markdown",
   "metadata": {},
   "source": [
    "The result is a Series, which is another Pandas type.  \n",
    "\n",
    "In this case the Series contains the birth weights, in pounds, of the live births (or in the case of multiple births, the first baby)."
   ]
  },
  {
   "cell_type": "markdown",
   "metadata": {},
   "source": [
    "`head()` shows the first five values in the series, the name of the series, and the datatype:"
   ]
  },
  {
   "cell_type": "code",
   "execution_count": 11,
   "metadata": {},
   "outputs": [
    {
     "data": {
      "text/plain": [
       "0    5.0\n",
       "1    4.0\n",
       "2    5.0\n",
       "3    NaN\n",
       "4    8.0\n",
       "Name: birthwgt_lb1, dtype: float64"
      ]
     },
     "execution_count": 11,
     "metadata": {},
     "output_type": "execute_result"
    }
   ],
   "source": [
    "pounds.head()"
   ]
  },
  {
   "cell_type": "markdown",
   "metadata": {},
   "source": [
    "Remember that `head` is a method, not an attribute; to call it, we have to use parentheses, `()`.\n",
    "\n",
    "`float64` means that these values are 64-bit floating-point numbers.\n",
    "\n",
    "One of the values is `NaN`, which stands for \"Not a Number\".  NaN is a special value used to indicate invalid or missing data.  In this example, the pregnancy did not end in live birth, so birth weight is inapplicable."
   ]
  },
  {
   "cell_type": "markdown",
   "metadata": {},
   "source": [
    "**Exercise:**  The variable `birthwgt_oz1` contains the ounces part of birth weight.\n",
    "\n",
    "- [Read the documentation of this variable](https://www.icpsr.umich.edu/icpsradmin/nsfg/variable/815971?studyNumber=9999).  What is the \"universe\" of this variable; that is, when is it applicable?\n",
    "\n",
    "- Select the column `'birthwgt_oz1'` from the `nsfg` DataFrame and assign it to a new variable called `ounces`.\n",
    "\n",
    "- Display the first 5 elements of `ounces`."
   ]
  },
  {
   "cell_type": "code",
   "execution_count": 12,
   "metadata": {},
   "outputs": [
    {
     "data": {
      "text/plain": [
       "0     4.0\n",
       "1    12.0\n",
       "2     4.0\n",
       "3     NaN\n",
       "4    13.0\n",
       "Name: birthwgt_oz1, dtype: float64"
      ]
     },
     "execution_count": 12,
     "metadata": {},
     "output_type": "execute_result"
    }
   ],
   "source": [
    "ounces = nsfg.birthwgt_oz1\n",
    "ounces[:5]"
   ]
  },
  {
   "cell_type": "code",
   "execution_count": 13,
   "metadata": {},
   "outputs": [
    {
     "data": {
      "text/html": [
       "<div>\n",
       "<style scoped>\n",
       "    .dataframe tbody tr th:only-of-type {\n",
       "        vertical-align: middle;\n",
       "    }\n",
       "\n",
       "    .dataframe tbody tr th {\n",
       "        vertical-align: top;\n",
       "    }\n",
       "\n",
       "    .dataframe thead th {\n",
       "        text-align: right;\n",
       "    }\n",
       "</style>\n",
       "<table border=\"1\" class=\"dataframe\">\n",
       "  <thead>\n",
       "    <tr style=\"text-align: right;\">\n",
       "      <th></th>\n",
       "      <th>caseid</th>\n",
       "      <th>outcome</th>\n",
       "      <th>birthwgt_lb1</th>\n",
       "      <th>birthwgt_oz1</th>\n",
       "      <th>prglngth</th>\n",
       "      <th>nbrnaliv</th>\n",
       "      <th>agecon</th>\n",
       "      <th>agepreg</th>\n",
       "      <th>birthord</th>\n",
       "      <th>hpagelb</th>\n",
       "      <th>wgt2013_2015</th>\n",
       "    </tr>\n",
       "  </thead>\n",
       "  <tbody>\n",
       "    <tr>\n",
       "      <th>5251</th>\n",
       "      <td>66101</td>\n",
       "      <td>1</td>\n",
       "      <td>98.0</td>\n",
       "      <td>98.0</td>\n",
       "      <td>38</td>\n",
       "      <td>8.0</td>\n",
       "      <td>3908</td>\n",
       "      <td>3975.0</td>\n",
       "      <td>4.0</td>\n",
       "      <td>98.0</td>\n",
       "      <td>4956.270245</td>\n",
       "    </tr>\n",
       "  </tbody>\n",
       "</table>\n",
       "</div>"
      ],
      "text/plain": [
       "      caseid  outcome  birthwgt_lb1  birthwgt_oz1  prglngth  nbrnaliv  agecon  \\\n",
       "5251   66101        1          98.0          98.0        38       8.0    3908   \n",
       "\n",
       "      agepreg  birthord  hpagelb  wgt2013_2015  \n",
       "5251   3975.0       4.0     98.0   4956.270245  "
      ]
     },
     "execution_count": 13,
     "metadata": {},
     "output_type": "execute_result"
    }
   ],
   "source": [
    "# Value 98 is for refused\n",
    "nsfg[ounces == 98]"
   ]
  },
  {
   "cell_type": "markdown",
   "metadata": {},
   "source": [
    "**Exercise:** The Pandas types we have seen so far at DataFrame, Index, and Series.  You can find the documentation of these types at:\n",
    "\n",
    "* [DataFrame](https://pandas.pydata.org/pandas-docs/stable/reference/api/pandas.DataFrame.html)\n",
    "\n",
    "* [Index](https://pandas.pydata.org/pandas-docs/stable/reference/api/pandas.Index.html)\n",
    "\n",
    "* [Series](https://pandas.pydata.org/pandas-docs/stable/reference/api/pandas.Series.html)\n",
    "\n",
    "For beginners, this documentation can be overwhelming.  I don't recommend trying to read it all now.  But you might want to skim it so you know where to look later.\n",
    "\n",
    "For each type, the documentation lists the associated attributes (which are like variables) and methods (which are like functions)."
   ]
  },
  {
   "cell_type": "markdown",
   "metadata": {},
   "source": [
    "## Validation\n",
    "\n",
    "At this point we have identified the columns we need to answer the question.  \n",
    "\n",
    "* I'll select `birthwgt_lb1`, which contains the pound part of birth weight, and assign it to `pounds`.  \n",
    "\n",
    "* And I'll select `birthwgt_oz1`, which contains the ounce part of birth weight, and assign it to `ounces`."
   ]
  },
  {
   "cell_type": "code",
   "execution_count": 14,
   "metadata": {},
   "outputs": [],
   "source": [
    "ounces = nsfg['birthwgt_oz1']\n",
    "pounds = nsfg['birthwgt_lb1']"
   ]
  },
  {
   "cell_type": "markdown",
   "metadata": {},
   "source": [
    "Before we do anything with this data, we have to validate it.  One part of validation is confirming that we are interpreting the data correctly.\n",
    "\n",
    "We can use the `value_counts` method to see what values appear in `pounds` and how many times each value appears."
   ]
  },
  {
   "cell_type": "code",
   "execution_count": 15,
   "metadata": {},
   "outputs": [
    {
     "data": {
      "text/plain": [
       "7.0     2146\n",
       "6.0     1666\n",
       "8.0     1168\n",
       "5.0      586\n",
       "9.0      363\n",
       "4.0      196\n",
       "99.0      94\n",
       "10.0      82\n",
       "3.0       67\n",
       "2.0       47\n",
       "1.0       34\n",
       "11.0      17\n",
       "12.0       7\n",
       "0.0        6\n",
       "14.0       2\n",
       "13.0       2\n",
       "98.0       1\n",
       "17.0       1\n",
       "Name: birthwgt_lb1, dtype: int64"
      ]
     },
     "execution_count": 15,
     "metadata": {},
     "output_type": "execute_result"
    }
   ],
   "source": [
    "pounds.value_counts()"
   ]
  },
  {
   "cell_type": "markdown",
   "metadata": {},
   "source": [
    "By default, the results are sorted with the most frequent value first, so I use `sort_index` to sort them by value instead, with the lightest babies first and heaviest babies last."
   ]
  },
  {
   "cell_type": "code",
   "execution_count": 16,
   "metadata": {},
   "outputs": [
    {
     "data": {
      "text/plain": [
       "0.0        6\n",
       "1.0       34\n",
       "2.0       47\n",
       "3.0       67\n",
       "4.0      196\n",
       "5.0      586\n",
       "6.0     1666\n",
       "7.0     2146\n",
       "8.0     1168\n",
       "9.0      363\n",
       "10.0      82\n",
       "11.0      17\n",
       "12.0       7\n",
       "13.0       2\n",
       "14.0       2\n",
       "17.0       1\n",
       "98.0       1\n",
       "99.0      94\n",
       "Name: birthwgt_lb1, dtype: int64"
      ]
     },
     "execution_count": 16,
     "metadata": {},
     "output_type": "execute_result"
    }
   ],
   "source": [
    "pounds.value_counts().sort_index()"
   ]
  },
  {
   "cell_type": "markdown",
   "metadata": {},
   "source": [
    "As we'd expect, the most frequent values are 6-8 pounds, but there are some very light babies, a few very heavy babies, and two special values, 98, and 99.  [According to the codebook](https://www.icpsr.umich.edu/icpsradmin/nsfg/variable/815970?studyNumber=9999), these values indicate that the respondent declined to answer the question (98) or did not know (99).\n",
    "\n",
    "We can validate the results by comparing them to the codebook, which lists the values and their frequencies.  The results here agree with the codebook, so we have some confidence that we are reading and interpreting the data correctly."
   ]
  },
  {
   "cell_type": "markdown",
   "metadata": {},
   "source": [
    "**Exercise:** In the `nsfg` DataFrame, the column `'outcome'` encodes the outcome of each pregnancy as shown below:\n",
    "\n",
    "| Value | Meaning |\n",
    "|---|---|\n",
    "| 1  | Live birth |\n",
    "| 2  | Induced abortion |\n",
    "| 3  | Stillbirth | \n",
    "| 4  | Miscarriage |\n",
    "| 5  | Ectopic pregnancy |\n",
    "| 6  | Current pregnancy |\n",
    "\n",
    "Use `value_counts` to display the values in this column and how many times each value appears.  Compare the results to the codebook, [which you can find here](https://www.icpsr.umich.edu/icpsradmin/nsfg/variable/816124?studyNumber=9999).  According to the codebook, how many live births are described in this dataset?  How many did you find in the DataFrame?"
   ]
  },
  {
   "cell_type": "code",
   "execution_count": 17,
   "metadata": {},
   "outputs": [
    {
     "data": {
      "text/plain": [
       "1    6489\n",
       "2     947\n",
       "3      86\n",
       "4    1469\n",
       "5     118\n",
       "6     249\n",
       "Name: outcome, dtype: int64"
      ]
     },
     "execution_count": 17,
     "metadata": {},
     "output_type": "execute_result"
    }
   ],
   "source": [
    "nsfg.outcome.value_counts().sort_index()"
   ]
  },
  {
   "cell_type": "markdown",
   "metadata": {},
   "source": [
    "## Summary statistics\n",
    "\n",
    "Another way to validate the data is with `describe`, which computes summary statistics like the mean, standard deviation, min, and max.\n",
    "\n",
    "Here are the results for `pounds`.  "
   ]
  },
  {
   "cell_type": "code",
   "execution_count": 18,
   "metadata": {},
   "outputs": [
    {
     "data": {
      "text/plain": [
       "count    6485.000000\n",
       "mean        8.055204\n",
       "std        11.178893\n",
       "min         0.000000\n",
       "25%         6.000000\n",
       "50%         7.000000\n",
       "75%         8.000000\n",
       "max        99.000000\n",
       "Name: birthwgt_lb1, dtype: float64"
      ]
     },
     "execution_count": 18,
     "metadata": {},
     "output_type": "execute_result"
    }
   ],
   "source": [
    "pounds.describe()"
   ]
  },
  {
   "cell_type": "markdown",
   "metadata": {},
   "source": [
    "`count` is the number of values, not including `NaN`.\n",
    "\n",
    "`mean` and `std` are the mean and standard deviation.\n",
    "\n",
    "`min` and `max` are the minimum and maximum values, and in between are the 25th, 50th, and 75th percentiles.  The 50th percentile is the median.\n",
    "\n",
    "The mean is about 8.05, but that doesn't mean much because it includes the special values 98 and 99.  Before we can really compute the mean, we have to replace those values with `NaN` to identify them as missing data.\n",
    "\n",
    "The `replace()` method does what we want:"
   ]
  },
  {
   "cell_type": "code",
   "execution_count": 19,
   "metadata": {},
   "outputs": [],
   "source": [
    "import numpy as np\n",
    "\n",
    "pounds_clean = pounds.replace([98, 99], np.nan)"
   ]
  },
  {
   "cell_type": "markdown",
   "metadata": {},
   "source": [
    "`replace` takes a list of the values we want to replace and the value we want to replace them with.  `np.nan` means we are getting the special value `NaN` from the NumPy library, which is imported as `np`.\n",
    "\n",
    "The result from `replace()` is a new Series, which I assign to `pounds_clean`.\n",
    "\n",
    "If we run `describe` again, we see that `count` includes only the valid values."
   ]
  },
  {
   "cell_type": "code",
   "execution_count": 20,
   "metadata": {},
   "outputs": [
    {
     "data": {
      "text/plain": [
       "count    6390.000000\n",
       "mean        6.703286\n",
       "std         1.429265\n",
       "min         0.000000\n",
       "25%         6.000000\n",
       "50%         7.000000\n",
       "75%         8.000000\n",
       "max        17.000000\n",
       "Name: birthwgt_lb1, dtype: float64"
      ]
     },
     "execution_count": 20,
     "metadata": {},
     "output_type": "execute_result"
    }
   ],
   "source": [
    "pounds_clean.describe()"
   ]
  },
  {
   "cell_type": "markdown",
   "metadata": {},
   "source": [
    "The mean of the new series is about 6.7 pounds.\n",
    "\n",
    "Remember that the mean of the original series was more than 8 pounds.\n",
    "\n",
    "It makes a big difference when you remove a few 99-pound babies!"
   ]
  },
  {
   "cell_type": "markdown",
   "metadata": {},
   "source": [
    "**Exercise:** Use `describe` to summarize `ounces`.  \n",
    "\n",
    "Then use `replace` to replace the special values 98 and 99 with NaN, and assign the result to `ounces_clean`.\n",
    "\n",
    "Run `describe` again.  How much does this cleaning affect the results?"
   ]
  },
  {
   "cell_type": "code",
   "execution_count": 21,
   "metadata": {},
   "outputs": [
    {
     "data": {
      "text/plain": [
       "count    6391.000000\n",
       "mean        7.213895\n",
       "std         8.254885\n",
       "min         0.000000\n",
       "25%         3.000000\n",
       "50%         6.000000\n",
       "75%        11.000000\n",
       "max        99.000000\n",
       "Name: birthwgt_oz1, dtype: float64"
      ]
     },
     "execution_count": 21,
     "metadata": {},
     "output_type": "execute_result"
    }
   ],
   "source": [
    "ounces.describe()"
   ]
  },
  {
   "cell_type": "code",
   "execution_count": 22,
   "metadata": {},
   "outputs": [],
   "source": [
    "ounces_clean = ounces.replace([98,99], np.nan)"
   ]
  },
  {
   "cell_type": "code",
   "execution_count": 23,
   "metadata": {},
   "outputs": [
    {
     "data": {
      "text/plain": [
       "count    6355.000000\n",
       "mean        6.694099\n",
       "std         4.533847\n",
       "min         0.000000\n",
       "25%         3.000000\n",
       "50%         6.000000\n",
       "75%        11.000000\n",
       "max        15.000000\n",
       "Name: birthwgt_oz1, dtype: float64"
      ]
     },
     "execution_count": 23,
     "metadata": {},
     "output_type": "execute_result"
    }
   ],
   "source": [
    "ounces_clean.describe()"
   ]
  },
  {
   "cell_type": "markdown",
   "metadata": {},
   "source": [
    "**Exercise:** In the `nsfg` DataFrame, the column `'nbrnaliv'` records the number of babies born alive at the end of each pregnancy.\n",
    "\n",
    "If you use `value_counts` to view the responses, you'll see that the value `8` appears once, and if you [consult the codebook](https://www.icpsr.umich.edu/icpsradmin/nsfg/variable/815953?studyNumber=9999), you'll see that this value indicates that the respondent refused to answer the question. \n",
    "\n",
    "Use `replace` to replace this value with `np.nan`, then display the responses again and confirm that they are consistent with the codebook."
   ]
  },
  {
   "cell_type": "code",
   "execution_count": 24,
   "metadata": {},
   "outputs": [
    {
     "data": {
      "text/plain": [
       "1.0    6379\n",
       "2.0     100\n",
       "3.0       5\n",
       "8.0       1\n",
       "Name: nbrnaliv, dtype: int64"
      ]
     },
     "execution_count": 24,
     "metadata": {},
     "output_type": "execute_result"
    }
   ],
   "source": [
    "nsfg.nbrnaliv.value_counts()"
   ]
  },
  {
   "cell_type": "code",
   "execution_count": 25,
   "metadata": {},
   "outputs": [
    {
     "data": {
      "text/plain": [
       "1.0    6379\n",
       "2.0     100\n",
       "3.0       5\n",
       "Name: nbrnaliv, dtype: int64"
      ]
     },
     "execution_count": 25,
     "metadata": {},
     "output_type": "execute_result"
    }
   ],
   "source": [
    "babies = nsfg.nbrnaliv.replace(8, np.nan)\n",
    "babies.value_counts()"
   ]
  },
  {
   "cell_type": "markdown",
   "metadata": {},
   "source": [
    "## Series arithmetic\n",
    "\n",
    "Now we want to combine `pounds` and `ounces` into a single Series that contains total birth weight.\n",
    "\n",
    "Arithmetic operators work with Series objects; so, for example, to convert `pounds` to ounces, we could write\n",
    "\n",
    "`pounds * 16`\n",
    "\n",
    "Then we could add in `ounces` like this\n",
    "\n",
    "`pounds * 16 + ounces`\n",
    "\n",
    "**Exercise:** Use `pounds_clean` and `ounces_clean` to compute the total birth weight expressed in kilograms (there are roughly 2.2 pounds per kilogram).  What is the mean birth weight in kilograms?"
   ]
  },
  {
   "cell_type": "code",
   "execution_count": 26,
   "metadata": {},
   "outputs": [
    {
     "data": {
      "text/plain": [
       "count    6355.000000\n",
       "mean        3.236808\n",
       "std         0.646471\n",
       "min         0.000000\n",
       "25%         2.897727\n",
       "50%         3.267045\n",
       "75%         3.636364\n",
       "max         8.153409\n",
       "dtype: float64"
      ]
     },
     "execution_count": 26,
     "metadata": {},
     "output_type": "execute_result"
    }
   ],
   "source": [
    "kgs = (pounds_clean * 16 + ounces_clean)/16/2.2\n",
    "kgs.describe()"
   ]
  },
  {
   "cell_type": "markdown",
   "metadata": {},
   "source": [
    "**Exercise:** For each pregnancy in the NSFG dataset, the variable `'agecon'` encodes the respondent's age at conception, and `'agepreg'` the respondent's age at the end of the pregnancy.\n",
    "\n",
    "Both variables are recorded as integers with two implicit decimal places, so the value `2575` means that the respondent's age was `25.75`.\n",
    "\n",
    "- Read the documentation of these variables.  Are there any special values we have to deal with?\n",
    "\n",
    "- Select `'agecon'` and `'agepreg'`, divide them by `100`, and assign them to variables named `agecon` and `agepreg`.\n",
    "\n",
    "- Compute the difference, which is an estimate of the duration of the pregnancy.\n",
    "\n",
    "- Use `.describe()` to compute the mean duration and other summary statistics.\n",
    "\n",
    "If the mean length of pregnancy seems short, remember that this dataset includes all pregnancies, not just the ones that ended in live birth."
   ]
  },
  {
   "cell_type": "code",
   "execution_count": 27,
   "metadata": {},
   "outputs": [
    {
     "data": {
      "text/plain": [
       "count    9109.000000\n",
       "mean        0.552069\n",
       "std         0.271479\n",
       "min         0.000000\n",
       "25%         0.250000\n",
       "50%         0.670000\n",
       "75%         0.750000\n",
       "max         0.920000\n",
       "dtype: float64"
      ]
     },
     "execution_count": 27,
     "metadata": {},
     "output_type": "execute_result"
    }
   ],
   "source": [
    "agecon = nsfg.agecon/100\n",
    "agepreg = nsfg.agepreg/100\n",
    "duration = agepreg - agecon\n",
    "duration.describe()"
   ]
  },
  {
   "cell_type": "markdown",
   "metadata": {},
   "source": [
    "## Histograms\n",
    "\n",
    "Let's get back to the original queston: what is the average birth weight for babies in the U.S.?  \n",
    "\n",
    "As an answer we *could* take the results from the previous section and compute the mean:"
   ]
  },
  {
   "cell_type": "code",
   "execution_count": 28,
   "metadata": {},
   "outputs": [
    {
     "data": {
      "text/plain": [
       "7.120977576711251"
      ]
     },
     "execution_count": 28,
     "metadata": {},
     "output_type": "execute_result"
    }
   ],
   "source": [
    "pounds_clean = pounds.replace([98, 99], np.nan)\n",
    "ounces_clean = ounces.replace([98, 99], np.nan)\n",
    "\n",
    "birth_weight = pounds_clean + ounces_clean / 16\n",
    "birth_weight.mean()"
   ]
  },
  {
   "cell_type": "markdown",
   "metadata": {},
   "source": [
    "But it is risky to compute a summary statistic, like the mean, before we look at the whole distribution of values.\n",
    "\n",
    "A \"distribution\" is a set of possible values and their frequencies.  One way to visualize a distribution is a histogram, which shows values on the `x` axis and their frequencies on the `y` axis.\n",
    "\n",
    "We'll use Pyplot to make histograms; as usual, we import it with the short name `plt`:"
   ]
  },
  {
   "cell_type": "code",
   "execution_count": 29,
   "metadata": {},
   "outputs": [],
   "source": [
    "import matplotlib.pyplot as plt"
   ]
  },
  {
   "cell_type": "markdown",
   "metadata": {},
   "source": [
    "Pyplot provides `hist`, which takes a Series and plots a histogram; that is, it shows the values and how often they appear.\n",
    "\n"
   ]
  },
  {
   "cell_type": "code",
   "execution_count": 30,
   "metadata": {},
   "outputs": [
    {
     "data": {
      "image/png": "[encoded data removed]",
      "text/plain": [
       "<Figure size 432x288 with 1 Axes>"
      ]
     },
     "metadata": {
      "needs_background": "light"
     },
     "output_type": "display_data"
    }
   ],
   "source": [
    "plt.hist(birth_weight.dropna(), bins=30)\n",
    "\n",
    "plt.xlabel('Birth weight in pounds')\n",
    "plt.ylabel('Number of live births')\n",
    "plt.title('Distribution of U.S. birth weight');"
   ]
  },
  {
   "cell_type": "markdown",
   "metadata": {},
   "source": [
    "Pyplot doesn't work with NaNs, so we have to use `dropna`, which makes a new Series that contains only the valid values.\n",
    "\n",
    "The second argument, `bins`, tells `hist` to divide the range of weights into 30 intervals, called \"bins\", and count how many values fall in each bin.\n",
    "\n",
    "The `x` axis is birth weight in pounds, divided into 30 bins.  The `y` axis is the number of births in each bin.  \n",
    "\n",
    "The distribution looks a little like a bell curve, but the tail is longer on the left than on the right; that is, there are more light babies than heavy babies.\n",
    "\n",
    "That makes sense because the distribution includes some babies that were born preterm.  "
   ]
  },
  {
   "cell_type": "markdown",
   "metadata": {},
   "source": [
    "**Exercise:** `hist` takes keyword arguments that specify the type and appearance of the histogram.  Find the documentation of `hist` and see if you can figure out how to plot the histogram as an unfilled line."
   ]
  },
  {
   "cell_type": "code",
   "execution_count": 31,
   "metadata": {},
   "outputs": [
    {
     "data": {
      "image/png": "[encoded data removed]",
      "text/plain": [
       "<Figure size 432x288 with 1 Axes>"
      ]
     },
     "metadata": {
      "needs_background": "light"
     },
     "output_type": "display_data"
    }
   ],
   "source": [
    "plt.hist(birth_weight.dropna(), bins=30, histtype='step')\n",
    "\n",
    "plt.xlabel('Birth weight in pounds')\n",
    "plt.ylabel('Number of live births')\n",
    "plt.title('Distribution of U.S. birth weight');"
   ]
  },
  {
   "cell_type": "markdown",
   "metadata": {},
   "source": [
    "**Exercise:** As we saw in a previous exercise, the NSFG dataset includes a column called `agecon` that records age at conception for each pregnancy. \n",
    "\n",
    "- Select this column from the DataFrame, divide by 100 to convert it to years, and assign it to a variable called `agecon`.\n",
    "\n",
    "- Plot the histogram of these values with 20 bins.\n",
    "\n",
    "- Label the `x` and `y` axes appropriately."
   ]
  },
  {
   "cell_type": "code",
   "execution_count": 32,
   "metadata": {},
   "outputs": [
    {
     "data": {
      "image/png": "[encoded data removed]",
      "text/plain": [
       "<Figure size 432x288 with 1 Axes>"
      ]
     },
     "metadata": {
      "needs_background": "light"
     },
     "output_type": "display_data"
    }
   ],
   "source": [
    "agecon = nsfg.agecon/100\n",
    "plt.hist(agecon, bins=20)\n",
    "plt.ylabel('Number of pregnancies')\n",
    "plt.xlabel('Age at conception in years')\n",
    "plt.title('Distribution of age at conception')\n",
    "plt.show()"
   ]
  },
  {
   "cell_type": "markdown",
   "metadata": {},
   "source": [
    "## Boolean series\n",
    "\n",
    "We have seen that the distribution of birth weights is \"skewed to the left\"; that is, there are more light babies than heavy ones and they are farther from the mean.\n",
    "\n",
    "That's because preterm babies tend to be lighter.  The most common duration for pregnancy is 39 weeks, which is \"full term\"; \"preterm\" is usually defined to be less than 37 weeks.\n",
    "\n",
    "To see which babies are preterm, we can use `prglngth`, which records pregnancy length in weeks.\n",
    "\n",
    "To identify babies that were born preterm, we can compare `prglngth` to 37."
   ]
  },
  {
   "cell_type": "code",
   "execution_count": 33,
   "metadata": {},
   "outputs": [
    {
     "data": {
      "text/plain": [
       "dtype('bool')"
      ]
     },
     "execution_count": 33,
     "metadata": {},
     "output_type": "execute_result"
    }
   ],
   "source": [
    "preterm = (nsfg['prglngth'] < 37)\n",
    "preterm.dtype"
   ]
  },
  {
   "cell_type": "markdown",
   "metadata": {},
   "source": [
    "When you compare a Series to a value, the result is a Boolean Series; that is, each element is a Boolean value, True or False.  In this case, it's True for each preterm baby and False otherwise.  We can use `head` to see the first 5 elements."
   ]
  },
  {
   "cell_type": "code",
   "execution_count": 34,
   "metadata": {},
   "outputs": [
    {
     "data": {
      "text/plain": [
       "0    False\n",
       "1     True\n",
       "2     True\n",
       "3     True\n",
       "4    False\n",
       "Name: prglngth, dtype: bool"
      ]
     },
     "execution_count": 34,
     "metadata": {},
     "output_type": "execute_result"
    }
   ],
   "source": [
    "preterm.head()"
   ]
  },
  {
   "cell_type": "markdown",
   "metadata": {},
   "source": [
    "If you compute the sum of a Boolean Series, it treats True as 1 and False as 0, so the sum is the number of Trues, which is the number of preterm babies, about 3700."
   ]
  },
  {
   "cell_type": "code",
   "execution_count": 35,
   "metadata": {},
   "outputs": [
    {
     "data": {
      "text/plain": [
       "3742"
      ]
     },
     "execution_count": 35,
     "metadata": {},
     "output_type": "execute_result"
    }
   ],
   "source": [
    "preterm.sum()"
   ]
  },
  {
   "cell_type": "markdown",
   "metadata": {},
   "source": [
    "If you compute the mean, you get the *fraction* of Trues; in this case, it's close to 0.4; that is, the durations of 40% of the pregnancies are less than 37 weeks."
   ]
  },
  {
   "cell_type": "code",
   "execution_count": 36,
   "metadata": {},
   "outputs": [
    {
     "data": {
      "text/plain": [
       "0.39987176747168196"
      ]
     },
     "execution_count": 36,
     "metadata": {},
     "output_type": "execute_result"
    }
   ],
   "source": [
    "preterm.mean()"
   ]
  },
  {
   "cell_type": "markdown",
   "metadata": {},
   "source": [
    "However, this result might be misleading because it includes all pregnancy outcomes, not just live births.\n",
    "\n",
    "We can create another Boolean Series to indicate which pregnancies ended in live birth:"
   ]
  },
  {
   "cell_type": "code",
   "execution_count": 37,
   "metadata": {},
   "outputs": [
    {
     "data": {
      "text/plain": [
       "0.6934173968796752"
      ]
     },
     "execution_count": 37,
     "metadata": {},
     "output_type": "execute_result"
    }
   ],
   "source": [
    "live = (nsfg['outcome'] == 1)\n",
    "live.mean()"
   ]
  },
  {
   "cell_type": "markdown",
   "metadata": {},
   "source": [
    "Now we can use the logical operator `&` to identify pregnancies where the outcome is a preterm live birth: "
   ]
  },
  {
   "cell_type": "code",
   "execution_count": 38,
   "metadata": {},
   "outputs": [
    {
     "data": {
      "text/plain": [
       "0.09724300064116265"
      ]
     },
     "execution_count": 38,
     "metadata": {},
     "output_type": "execute_result"
    }
   ],
   "source": [
    "live_preterm = (live & preterm)\n",
    "live_preterm.mean()"
   ]
  },
  {
   "cell_type": "markdown",
   "metadata": {},
   "source": [
    "**Exercise:** Of all live births, what fraction are preterm?"
   ]
  },
  {
   "cell_type": "code",
   "execution_count": 39,
   "metadata": {},
   "outputs": [
    {
     "data": {
      "text/plain": [
       "0.14023732470334413"
      ]
     },
     "execution_count": 39,
     "metadata": {},
     "output_type": "execute_result"
    }
   ],
   "source": [
    "live_preterm.sum()/live.sum()"
   ]
  },
  {
   "cell_type": "markdown",
   "metadata": {},
   "source": [
    "The other common logical operators are:\n",
    "    \n",
    "* `|`, which is the OR operator; for example `live | preterm` is true if either `live` is true, or `preterm` is true, or both.\n",
    "\n",
    "* `~`, which is the NOT operator; for example `~live` is true if `live` is false or NaN.\n",
    "\n",
    "The logical operators treat NaN the same as False.  So you should be careful about using the NOT operator with a Series that contains NaN values.  \n",
    "\n",
    "For example, `~preterm` would include full term pregnancies, which is probably what you want, and pregnancies with unknown length, which might not be."
   ]
  },
  {
   "cell_type": "markdown",
   "metadata": {},
   "source": [
    "**Exercise:** What fraction pregnancies are full term, that is, 37 weeks or more?\n",
    "\n",
    "Of all live births, what fraction are full term?"
   ]
  },
  {
   "cell_type": "code",
   "execution_count": 40,
   "metadata": {},
   "outputs": [
    {
     "data": {
      "text/plain": [
       "0.600128232528318"
      ]
     },
     "execution_count": 40,
     "metadata": {},
     "output_type": "execute_result"
    }
   ],
   "source": [
    "fullterm = nsfg['prglngth'] >= 37\n",
    "fullterm.mean()"
   ]
  },
  {
   "cell_type": "code",
   "execution_count": 41,
   "metadata": {},
   "outputs": [
    {
     "data": {
      "text/plain": [
       "0.8597626752966558"
      ]
     },
     "execution_count": 41,
     "metadata": {},
     "output_type": "execute_result"
    }
   ],
   "source": [
    "live_fullterm = (nsfg.prglngth >= 37) & (nsfg.outcome == 1)\n",
    "live_fullterm.sum()/live.sum()"
   ]
  },
  {
   "cell_type": "code",
   "execution_count": 42,
   "metadata": {},
   "outputs": [
    {
     "data": {
      "text/plain": [
       "1.0"
      ]
     },
     "execution_count": 42,
     "metadata": {},
     "output_type": "execute_result"
    }
   ],
   "source": [
    "live_fullterm.sum()/live.sum() + live_preterm.sum()/live.sum()"
   ]
  },
  {
   "cell_type": "markdown",
   "metadata": {},
   "source": [
    "## Filtering\n",
    "\n",
    "We can use a Boolean Series as a filter; that is, we can select only rows that satisfy a condition or meet some criterion.\n",
    "\n",
    "For example, we can use `preterm` and the bracket operator to select values from `birth_weight`, so `preterm_weight` gets birth weights for preterm babies. "
   ]
  },
  {
   "cell_type": "code",
   "execution_count": 43,
   "metadata": {},
   "outputs": [
    {
     "data": {
      "text/plain": [
       "5.577598314606742"
      ]
     },
     "execution_count": 43,
     "metadata": {},
     "output_type": "execute_result"
    }
   ],
   "source": [
    "preterm_weight = birth_weight[preterm]\n",
    "preterm_weight.mean()"
   ]
  },
  {
   "cell_type": "markdown",
   "metadata": {},
   "source": [
    "To select full-term babies, we can create a Boolean Series like this:"
   ]
  },
  {
   "cell_type": "code",
   "execution_count": 44,
   "metadata": {},
   "outputs": [],
   "source": [
    "fullterm = (nsfg['prglngth'] >= 37)"
   ]
  },
  {
   "cell_type": "markdown",
   "metadata": {},
   "source": [
    "And use it to select birth weights for full term babies:"
   ]
  },
  {
   "cell_type": "code",
   "execution_count": 45,
   "metadata": {},
   "outputs": [
    {
     "data": {
      "text/plain": [
       "7.372323879231473"
      ]
     },
     "execution_count": 45,
     "metadata": {},
     "output_type": "execute_result"
    }
   ],
   "source": [
    "full_term_weight = birth_weight[fullterm]\n",
    "full_term_weight.mean()"
   ]
  },
  {
   "cell_type": "markdown",
   "metadata": {},
   "source": [
    "As expected, full term babies are heavier, on average, than preterm babies.\n",
    "\n",
    "To be more explicit, we could also limit the results to live births, like this:"
   ]
  },
  {
   "cell_type": "code",
   "execution_count": 46,
   "metadata": {},
   "outputs": [
    {
     "data": {
      "text/plain": [
       "7.372323879231473"
      ]
     },
     "execution_count": 46,
     "metadata": {},
     "output_type": "execute_result"
    }
   ],
   "source": [
    "full_term_weight = birth_weight[live & fullterm]\n",
    "full_term_weight.mean()"
   ]
  },
  {
   "cell_type": "markdown",
   "metadata": {},
   "source": [
    "But in this case it doesn't make a difference because `birth_weight` is only valid for live births."
   ]
  },
  {
   "cell_type": "markdown",
   "metadata": {},
   "source": [
    "**Exercise:** Let's see if there is a difference in weight between single births and multiple births (twins, triplets, etc.).\n",
    "\n",
    "The variable `nbrnaliv` represents the number of babies born alive from a pregnancy.  Here's a cleaned version of this variable:"
   ]
  },
  {
   "cell_type": "code",
   "execution_count": 47,
   "metadata": {},
   "outputs": [],
   "source": [
    "nbrnaliv_clean = nsfg['nbrnaliv'].replace(8, np.nan)"
   ]
  },
  {
   "cell_type": "markdown",
   "metadata": {},
   "source": [
    "Use `nbrnaliv_clean` and `live` to create a Boolean series called `multiple` that is true for multiple live births.  \n",
    "\n",
    "Of all live births, what fraction are multiple births?"
   ]
  },
  {
   "cell_type": "code",
   "execution_count": 48,
   "metadata": {},
   "outputs": [
    {
     "data": {
      "text/plain": [
       "1.0    6379\n",
       "2.0     100\n",
       "3.0       5\n",
       "Name: nbrnaliv, dtype: int64"
      ]
     },
     "execution_count": 48,
     "metadata": {},
     "output_type": "execute_result"
    }
   ],
   "source": [
    "nbrnaliv_clean.value_counts()"
   ]
  },
  {
   "cell_type": "code",
   "execution_count": 49,
   "metadata": {},
   "outputs": [],
   "source": [
    "# multiple = nbrnaliv_clean[live] > 1\n",
    "multiple = nbrnaliv_clean > 1"
   ]
  },
  {
   "cell_type": "code",
   "execution_count": 50,
   "metadata": {},
   "outputs": [
    {
     "data": {
      "text/plain": [
       "0.016181229773462782"
      ]
     },
     "execution_count": 50,
     "metadata": {},
     "output_type": "execute_result"
    }
   ],
   "source": [
    "multiple.sum()/live.sum()"
   ]
  },
  {
   "cell_type": "markdown",
   "metadata": {},
   "source": [
    "**Exercise:** Make a Boolean series called `single` that is true for single live births.\n",
    "\n",
    "Of all single births, what fraction are preterm?\n",
    "\n",
    "Of all multiple births, what fraction are preterm?"
   ]
  },
  {
   "cell_type": "code",
   "execution_count": 51,
   "metadata": {},
   "outputs": [],
   "source": [
    "single = nbrnaliv_clean == 1"
   ]
  },
  {
   "cell_type": "code",
   "execution_count": 52,
   "metadata": {},
   "outputs": [
    {
     "data": {
      "text/plain": [
       "False    5616\n",
       "True     3742\n",
       "Name: prglngth, dtype: int64"
      ]
     },
     "execution_count": 52,
     "metadata": {},
     "output_type": "execute_result"
    }
   ],
   "source": [
    "preterm.value_counts()"
   ]
  },
  {
   "cell_type": "code",
   "execution_count": 53,
   "metadata": {},
   "outputs": [
    {
     "data": {
      "text/plain": [
       "True     6379\n",
       "False    2979\n",
       "Name: nbrnaliv, dtype: int64"
      ]
     },
     "execution_count": 53,
     "metadata": {},
     "output_type": "execute_result"
    }
   ],
   "source": [
    "single.value_counts()"
   ]
  },
  {
   "cell_type": "code",
   "execution_count": 54,
   "metadata": {},
   "outputs": [
    {
     "data": {
      "text/plain": [
       "False    2892\n",
       "True      850\n",
       "Name: nbrnaliv, dtype: int64"
      ]
     },
     "execution_count": 54,
     "metadata": {},
     "output_type": "execute_result"
    }
   ],
   "source": [
    "single[preterm].value_counts()"
   ]
  },
  {
   "cell_type": "code",
   "execution_count": 55,
   "metadata": {},
   "outputs": [
    {
     "data": {
      "text/plain": [
       "True    850\n",
       "Name: nbrnaliv, dtype: int64"
      ]
     },
     "execution_count": 55,
     "metadata": {},
     "output_type": "execute_result"
    }
   ],
   "source": [
    "single[single & preterm].value_counts()"
   ]
  },
  {
   "cell_type": "code",
   "execution_count": 56,
   "metadata": {},
   "outputs": [
    {
     "data": {
      "text/plain": [
       "0.1332497256623295"
      ]
     },
     "execution_count": 56,
     "metadata": {},
     "output_type": "execute_result"
    }
   ],
   "source": [
    "single[preterm].sum()/single.sum()"
   ]
  },
  {
   "cell_type": "code",
   "execution_count": 57,
   "metadata": {},
   "outputs": [
    {
     "data": {
      "text/plain": [
       "0.5619047619047619"
      ]
     },
     "execution_count": 57,
     "metadata": {},
     "output_type": "execute_result"
    }
   ],
   "source": [
    "multiple[preterm].sum()/multiple.sum()"
   ]
  },
  {
   "cell_type": "markdown",
   "metadata": {},
   "source": [
    "**Exercise:** What is the average birth weight for live, single, full-term births?"
   ]
  },
  {
   "cell_type": "code",
   "execution_count": 58,
   "metadata": {},
   "outputs": [
    {
     "data": {
      "text/plain": [
       "3.3571106591747735"
      ]
     },
     "execution_count": 58,
     "metadata": {},
     "output_type": "execute_result"
    }
   ],
   "source": [
    "kgs[live & single & fullterm].mean()"
   ]
  },
  {
   "cell_type": "code",
   "execution_count": 59,
   "metadata": {},
   "outputs": [
    {
     "data": {
      "text/plain": [
       "2.621843434343434"
      ]
     },
     "execution_count": 59,
     "metadata": {},
     "output_type": "execute_result"
    }
   ],
   "source": [
    "kgs[live & multiple & fullterm].mean()"
   ]
  },
  {
   "cell_type": "markdown",
   "metadata": {},
   "source": [
    "## Resampling\n",
    "\n",
    "We are almost ready to compute the average birth weight, but there's one more thing we have to do: resampling.\n",
    "\n",
    "The NSFG is not exactly representative of the U.S. population; by design, some groups are more likely to appear in the sample than others; that is, they are \"oversampled\".  Oversampling helps to ensure that you have enough people in every subgroup to get reliable statistics, but it makes the analysis a little more complicated.\n",
    "\n",
    "However, we can correct for oversampling by \"resampling\".  The key is that each pregnancy in the dataset has a \"sampling weight\" that indicates how many pregnancies it represents.  In the `nsfg` DataFrame, the sampling weight is stored in a column named `wgt2013_2015`.\n",
    "\n",
    "Here's what it looks like."
   ]
  },
  {
   "cell_type": "code",
   "execution_count": 60,
   "metadata": {},
   "outputs": [
    {
     "data": {
      "text/plain": [
       "count     9358.000000\n",
       "mean     10759.200147\n",
       "std      11400.179222\n",
       "min       1859.105000\n",
       "25%       4340.053407\n",
       "50%       7062.994158\n",
       "75%      12629.322982\n",
       "max      75399.410000\n",
       "Name: wgt2013_2015, dtype: float64"
      ]
     },
     "execution_count": 60,
     "metadata": {},
     "output_type": "execute_result"
    }
   ],
   "source": [
    "nsfg['wgt2013_2015'].describe()"
   ]
  },
  {
   "cell_type": "markdown",
   "metadata": {},
   "source": [
    "The lowest value in this column is about 1859, which means that a pregnancy with that weight represents 1859 total pregnancies in the population.\n",
    "\n",
    "The highest weight is about 75399, which means that this observed pregnancy represents substantially more pregnancies in the population.\n",
    "\n",
    "To take these weights into account, we can resample the DataFrame, which means that we draw a new random sample from the rows in the DataFrame using a weighted sampling process so that rows with higher weights are more likely than rows with lower weights.\n",
    "\n",
    "DataFrame provides a method called `sample` that does what we want:"
   ]
  },
  {
   "cell_type": "code",
   "execution_count": 61,
   "metadata": {},
   "outputs": [],
   "source": [
    "n = len(nsfg)\n",
    "weights = nsfg['wgt2013_2015']\n",
    "sample = nsfg.sample(n, \n",
    "                     replace=True, \n",
    "                     weights=weights)"
   ]
  },
  {
   "cell_type": "markdown",
   "metadata": {},
   "source": [
    "Here's what the arguments mean:\n",
    "\n",
    "* The size of the sample, `n`, is the same as the size of the DataFrame.\n",
    "\n",
    "* `replace` means that sampling is done \"with replacement\", so some rows appear in the sample more than once and some might not appear at all.\n",
    "\n",
    "* `weights` are used to weight the sampling process, so each rows appears in the sample with frequency proportional to its weight."
   ]
  },
  {
   "cell_type": "markdown",
   "metadata": {},
   "source": [
    "**Exercise:** Now let's bring it all together.  To test your recall, try to do this exercise without referring back to previous code.\n",
    "\n",
    "1. From `sample`, extract `birthwgt_lb1` and `birthwgt_oz1` and assign them to `pounds` and `ounces`.\n",
    "\n",
    "2. Clean both variables by replacing `98` and `99` with NaN.\n",
    "\n",
    "3. Compute total birthweight in pounds and display the mean.\n",
    "\n",
    "4. Compute Boolean Series for live, single, and full-term babies.\n",
    "\n",
    "5. Select birthweights for live, single, full-term babies and display their mean weight."
   ]
  },
  {
   "cell_type": "code",
   "execution_count": 62,
   "metadata": {},
   "outputs": [
    {
     "data": {
      "text/plain": [
       "Index(['caseid', 'outcome', 'birthwgt_lb1', 'birthwgt_oz1', 'prglngth',\n",
       "       'nbrnaliv', 'agecon', 'agepreg', 'birthord', 'hpagelb', 'wgt2013_2015'],\n",
       "      dtype='object')"
      ]
     },
     "execution_count": 62,
     "metadata": {},
     "output_type": "execute_result"
    }
   ],
   "source": [
    "sample.columns"
   ]
  },
  {
   "cell_type": "code",
   "execution_count": 63,
   "metadata": {},
   "outputs": [],
   "source": [
    "# 1.\n",
    "pounds = sample.birthwgt_lb1\n",
    "ounces = sample.birthwgt_oz1"
   ]
  },
  {
   "cell_type": "code",
   "execution_count": 64,
   "metadata": {},
   "outputs": [],
   "source": [
    "# 2.\n",
    "pounds_clean = pounds.replace([98,99], np.nan)\n",
    "ounces_clean = ounces.replace([98,99], np.nan)"
   ]
  },
  {
   "cell_type": "code",
   "execution_count": 65,
   "metadata": {},
   "outputs": [
    {
     "name": "stdout",
     "output_type": "stream",
     "text": [
      "7.208038189097628 pounds\n",
      "3.2763809950443763 kilograms\n"
     ]
    }
   ],
   "source": [
    "# 3.\n",
    "total_pounds = (pounds_clean * 16 + ounces_clean)/16\n",
    "print(f\"{total_pounds.mean()} pounds\\n{total_pounds.mean()/2.2} kilograms\")"
   ]
  },
  {
   "cell_type": "code",
   "execution_count": 66,
   "metadata": {},
   "outputs": [],
   "source": [
    "# 4.\n",
    "live = sample.outcome == 1\n",
    "single = sample.nbrnaliv == 1\n",
    "fullterm = sample.agepreg >= 37"
   ]
  },
  {
   "cell_type": "code",
   "execution_count": 67,
   "metadata": {},
   "outputs": [
    {
     "data": {
      "text/plain": [
       "7.256605292085427"
      ]
     },
     "execution_count": 67,
     "metadata": {},
     "output_type": "execute_result"
    }
   ],
   "source": [
    "# 5. \n",
    "total_pounds[live & single & fullterm].mean()"
   ]
  },
  {
   "cell_type": "code",
   "execution_count": 68,
   "metadata": {},
   "outputs": [
    {
     "data": {
      "text/plain": [
       "3.298456950947921"
      ]
     },
     "execution_count": 68,
     "metadata": {},
     "output_type": "execute_result"
    }
   ],
   "source": [
    "# 5.\n",
    "total_pounds[live & single & fullterm].mean()/2.2"
   ]
  },
  {
   "cell_type": "markdown",
   "metadata": {},
   "source": [
    "Most of the time, you will find that the resampled data yields a slightly higher estimate for the average birth weight of single, full-term births in the U.S., compared to the unresampled data.\n",
    "\n",
    "But resampling is a random process, so the results will be slightly different each time you run it.  Later we will see how we can use this variability to quantify the precision of the estimate."
   ]
  }
 ],
 "metadata": {
  "kernelspec": {
   "display_name": "Python 3",
   "language": "python",
   "name": "python3"
  },
  "language_info": {
   "codemirror_mode": {
    "name": "ipython",
    "version": 3
   },
   "file_extension": ".py",
   "mimetype": "text/x-python",
   "name": "python",
   "nbconvert_exporter": "python",
   "pygments_lexer": "ipython3",
   "version": "3.7.0"
  }
 },
 "nbformat": 4,
 "nbformat_minor": 2
}
