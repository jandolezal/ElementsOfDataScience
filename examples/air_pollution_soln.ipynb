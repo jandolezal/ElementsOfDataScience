{
 "cells": [
  {
   "cell_type": "markdown",
   "metadata": {},
   "source": [
    "# Air Pollution and GDP\n",
    "\n",
    "Elements of Data Science\n",
    "\n",
    "by [Allen Downey](https://allendowney.com)\n",
    "\n",
    "[MIT License](https://opensource.org/licenses/MIT)"
   ]
  },
  {
   "cell_type": "markdown",
   "metadata": {},
   "source": [
    "## Air Pollution and GDP\n",
    "\n",
    "This example is based on [an interactive visualization from Our World in Data](https://ourworldindata.org/outdoor-air-pollution).\n",
    "\n",
    "They make the data available for download (thank you!).  I have stored a copy in this repository; the following cell downloads it if necessary."
   ]
  },
  {
   "cell_type": "code",
   "execution_count": 1,
   "metadata": {},
   "outputs": [],
   "source": [
    "# Get the data file\n",
    "\n",
    "import os\n",
    "\n",
    "filename = 'outdoor-pollution-rate-vs-gdp.csv'\n",
    "if not os.path.exists(filename):\n",
    "    !wget https://github.com/AllenDowney/ElementsOfDataScience/raw/master/data/outdoor-pollution-rate-vs-gdp.csv"
   ]
  },
  {
   "cell_type": "markdown",
   "metadata": {},
   "source": [
    "Now we can read the data into a Pandas `DataFrame`."
   ]
  },
  {
   "cell_type": "code",
   "execution_count": 2,
   "metadata": {},
   "outputs": [
    {
     "data": {
      "text/html": [
       "<div>\n",
       "<style scoped>\n",
       "    .dataframe tbody tr th:only-of-type {\n",
       "        vertical-align: middle;\n",
       "    }\n",
       "\n",
       "    .dataframe tbody tr th {\n",
       "        vertical-align: top;\n",
       "    }\n",
       "\n",
       "    .dataframe thead th {\n",
       "        text-align: right;\n",
       "    }\n",
       "</style>\n",
       "<table border=\"1\" class=\"dataframe\">\n",
       "  <thead>\n",
       "    <tr style=\"text-align: right;\">\n",
       "      <th></th>\n",
       "      <th>Entity</th>\n",
       "      <th>Code</th>\n",
       "      <th>Year</th>\n",
       "      <th>Total population (Gapminder, HYDE &amp; UN)</th>\n",
       "      <th>Continent</th>\n",
       "      <th>GDP per capita, PPP (constant 2011 international $)</th>\n",
       "      <th>Death rate – Outdoor air pollution (age-standardized) (IHME)</th>\n",
       "    </tr>\n",
       "  </thead>\n",
       "  <tbody>\n",
       "    <tr>\n",
       "      <th>0</th>\n",
       "      <td>Abkhazia</td>\n",
       "      <td>OWID_ABK</td>\n",
       "      <td>2015</td>\n",
       "      <td>NaN</td>\n",
       "      <td>Asia</td>\n",
       "      <td>NaN</td>\n",
       "      <td>NaN</td>\n",
       "    </tr>\n",
       "    <tr>\n",
       "      <th>1</th>\n",
       "      <td>Afghanistan</td>\n",
       "      <td>AFG</td>\n",
       "      <td>1800</td>\n",
       "      <td>3280000.0</td>\n",
       "      <td>NaN</td>\n",
       "      <td>NaN</td>\n",
       "      <td>NaN</td>\n",
       "    </tr>\n",
       "    <tr>\n",
       "      <th>2</th>\n",
       "      <td>Afghanistan</td>\n",
       "      <td>AFG</td>\n",
       "      <td>1801</td>\n",
       "      <td>3280000.0</td>\n",
       "      <td>NaN</td>\n",
       "      <td>NaN</td>\n",
       "      <td>NaN</td>\n",
       "    </tr>\n",
       "    <tr>\n",
       "      <th>3</th>\n",
       "      <td>Afghanistan</td>\n",
       "      <td>AFG</td>\n",
       "      <td>1802</td>\n",
       "      <td>3280000.0</td>\n",
       "      <td>NaN</td>\n",
       "      <td>NaN</td>\n",
       "      <td>NaN</td>\n",
       "    </tr>\n",
       "    <tr>\n",
       "      <th>4</th>\n",
       "      <td>Afghanistan</td>\n",
       "      <td>AFG</td>\n",
       "      <td>1803</td>\n",
       "      <td>3280000.0</td>\n",
       "      <td>NaN</td>\n",
       "      <td>NaN</td>\n",
       "      <td>NaN</td>\n",
       "    </tr>\n",
       "  </tbody>\n",
       "</table>\n",
       "</div>"
      ],
      "text/plain": [
       "        Entity      Code  Year  Total population (Gapminder, HYDE & UN)  \\\n",
       "0     Abkhazia  OWID_ABK  2015                                      NaN   \n",
       "1  Afghanistan       AFG  1800                                3280000.0   \n",
       "2  Afghanistan       AFG  1801                                3280000.0   \n",
       "3  Afghanistan       AFG  1802                                3280000.0   \n",
       "4  Afghanistan       AFG  1803                                3280000.0   \n",
       "\n",
       "  Continent  GDP per capita, PPP (constant 2011 international $)  \\\n",
       "0      Asia                                                NaN     \n",
       "1       NaN                                                NaN     \n",
       "2       NaN                                                NaN     \n",
       "3       NaN                                                NaN     \n",
       "4       NaN                                                NaN     \n",
       "\n",
       "   Death rate – Outdoor air pollution (age-standardized) (IHME)  \n",
       "0                                                NaN             \n",
       "1                                                NaN             \n",
       "2                                                NaN             \n",
       "3                                                NaN             \n",
       "4                                                NaN             "
      ]
     },
     "execution_count": 2,
     "metadata": {},
     "output_type": "execute_result"
    }
   ],
   "source": [
    "import pandas as pd\n",
    "\n",
    "df = pd.read_csv(filename)\n",
    "df.head()"
   ]
  },
  {
   "cell_type": "code",
   "execution_count": 3,
   "metadata": {},
   "outputs": [
    {
     "data": {
      "text/plain": [
       "Index(['Entity', 'Code', 'Year', 'Total population (Gapminder, HYDE & UN)',\n",
       "       'Continent', 'GDP per capita, PPP (constant 2011 international $)',\n",
       "       'Death rate – Outdoor air pollution (age-standardized) (IHME)'],\n",
       "      dtype='object')"
      ]
     },
     "execution_count": 3,
     "metadata": {},
     "output_type": "execute_result"
    }
   ],
   "source": [
    "df.columns"
   ]
  },
  {
   "cell_type": "code",
   "execution_count": 4,
   "metadata": {},
   "outputs": [
    {
     "data": {
      "text/plain": [
       "Switzerland                                     220\n",
       "Tunisia                                         220\n",
       "Cote d'Ivoire                                   220\n",
       "Egypt                                           220\n",
       "Sri Lanka                                       220\n",
       "                                               ... \n",
       "South Georgia and the South Sandwich Islands      1\n",
       "Guernsey                                          1\n",
       "Cocos Islands                                     1\n",
       "East Germany                                      1\n",
       "Baden                                             1\n",
       "Name: Entity, Length: 368, dtype: int64"
      ]
     },
     "execution_count": 4,
     "metadata": {},
     "output_type": "execute_result"
    }
   ],
   "source": [
    "df['Entity'].value_counts()"
   ]
  },
  {
   "cell_type": "code",
   "execution_count": 5,
   "metadata": {},
   "outputs": [
    {
     "data": {
      "text/plain": [
       "count      6407.000000\n",
       "mean      14926.095591\n",
       "std       17739.754531\n",
       "min         247.436540\n",
       "25%        3021.071807\n",
       "50%        8447.264179\n",
       "75%       19607.537075\n",
       "max      135318.754421\n",
       "Name: GDP per capita, PPP (constant 2011 international $), dtype: float64"
      ]
     },
     "execution_count": 5,
     "metadata": {},
     "output_type": "execute_result"
    }
   ],
   "source": [
    "df['GDP per capita, PPP (constant 2011 international $)'].describe()"
   ]
  },
  {
   "cell_type": "code",
   "execution_count": 6,
   "metadata": {},
   "outputs": [
    {
     "data": {
      "text/plain": [
       "count    6467.000000\n",
       "mean       38.483708\n",
       "std        19.921586\n",
       "min         8.330000\n",
       "25%        23.875000\n",
       "50%        33.590000\n",
       "75%        49.355000\n",
       "max       143.350000\n",
       "Name: Death rate – Outdoor air pollution (age-standardized) (IHME), dtype: float64"
      ]
     },
     "execution_count": 6,
     "metadata": {},
     "output_type": "execute_result"
    }
   ],
   "source": [
    "df['Death rate – Outdoor air pollution (age-standardized) (IHME)'].describe()"
   ]
  },
  {
   "cell_type": "code",
   "execution_count": 7,
   "metadata": {},
   "outputs": [],
   "source": [
    "is_country = ~df['Code'].str.startswith('OWID').astype(bool)"
   ]
  },
  {
   "cell_type": "code",
   "execution_count": 8,
   "metadata": {},
   "outputs": [],
   "source": [
    "is_2017 = df['Year'] == 2017"
   ]
  },
  {
   "cell_type": "code",
   "execution_count": 9,
   "metadata": {},
   "outputs": [],
   "source": [
    "df17 = df[is_2017 & is_country]"
   ]
  },
  {
   "cell_type": "code",
   "execution_count": 10,
   "metadata": {},
   "outputs": [],
   "source": [
    "gdp = df17['GDP per capita, PPP (constant 2011 international $)']"
   ]
  },
  {
   "cell_type": "code",
   "execution_count": 11,
   "metadata": {},
   "outputs": [],
   "source": [
    "death_rate = df17['Death rate – Outdoor air pollution (age-standardized) (IHME)']"
   ]
  },
  {
   "cell_type": "code",
   "execution_count": 12,
   "metadata": {},
   "outputs": [
    {
     "data": {
      "text/plain": [
       "count     233.000000\n",
       "mean       32.393468\n",
       "std       132.694933\n",
       "min         0.001000\n",
       "25%         0.424000\n",
       "50%         5.448000\n",
       "75%        19.654000\n",
       "max      1421.021952\n",
       "Name: Total population (Gapminder, HYDE & UN), dtype: float64"
      ]
     },
     "execution_count": 12,
     "metadata": {},
     "output_type": "execute_result"
    }
   ],
   "source": [
    "pop = df17['Total population (Gapminder, HYDE & UN)'] / 1e6\n",
    "pop.describe()"
   ]
  },
  {
   "cell_type": "markdown",
   "metadata": {},
   "source": [
    "[How to make a bubble plot in Matplotlib](https://www.google.com/search?q=matplotlib+bubble+chart)"
   ]
  },
  {
   "cell_type": "code",
   "execution_count": 13,
   "metadata": {},
   "outputs": [
    {
     "data": {
      "image/png": "[encoded data removed]",
      "text/plain": [
       "<Figure size 432x288 with 1 Axes>"
      ]
     },
     "metadata": {
      "needs_background": "light"
     },
     "output_type": "display_data"
    }
   ],
   "source": [
    "import matplotlib.pyplot as plt\n",
    "\n",
    "plt.scatter(gdp, death_rate, s=pop, alpha=0.3)\n",
    "plt.xscale('log')\n",
    "\n",
    "plt.xlabel('GDP per capita PPP (2011 international dollars)')\n",
    "plt.ylabel('Age adjusted death rate due to outdoor pollution');"
   ]
  },
  {
   "cell_type": "code",
   "execution_count": 14,
   "metadata": {},
   "outputs": [
    {
     "data": {
      "text/plain": [
       "count     233.000000\n",
       "mean       32.393468\n",
       "std       132.694933\n",
       "min         0.001000\n",
       "25%         0.424000\n",
       "50%         5.448000\n",
       "75%        19.654000\n",
       "max      1421.021952\n",
       "dtype: float64"
      ]
     },
     "execution_count": 14,
     "metadata": {},
     "output_type": "execute_result"
    }
   ],
   "source": [
    "s = pd.Series(pop.values, index=df17['Entity'])\n",
    "s.describe()"
   ]
  },
  {
   "cell_type": "code",
   "execution_count": 15,
   "metadata": {},
   "outputs": [
    {
     "data": {
      "text/plain": [
       "Entity\n",
       "China            1421.021952\n",
       "India            1338.676992\n",
       "United States     325.084992\n",
       "Indonesia         264.651008\n",
       "Pakistan          207.906000\n",
       "Brazil            207.834000\n",
       "Nigeria           190.872992\n",
       "Bangladesh        159.684992\n",
       "Russia            145.530000\n",
       "Japan             127.503000\n",
       "dtype: float64"
      ]
     },
     "execution_count": 15,
     "metadata": {},
     "output_type": "execute_result"
    }
   ],
   "source": [
    "s.nlargest(10)"
   ]
  },
  {
   "cell_type": "code",
   "execution_count": 16,
   "metadata": {},
   "outputs": [
    {
     "data": {
      "text/plain": [
       "Entity\n",
       "Tokelau                      0.001\n",
       "Vatican                      0.001\n",
       "Niue                         0.002\n",
       "Falkland Islands             0.003\n",
       "Montserrat                   0.005\n",
       "Saint Helena                 0.006\n",
       "Saint Pierre and Miquelon    0.006\n",
       "Nauru                        0.011\n",
       "Tuvalu                       0.011\n",
       "Wallis and Futuna            0.012\n",
       "dtype: float64"
      ]
     },
     "execution_count": 16,
     "metadata": {},
     "output_type": "execute_result"
    }
   ],
   "source": [
    "s.nsmallest(10)"
   ]
  },
  {
   "cell_type": "code",
   "execution_count": null,
   "metadata": {},
   "outputs": [],
   "source": []
  }
 ],
 "metadata": {
  "kernelspec": {
   "display_name": "Python 3",
   "language": "python",
   "name": "python3"
  },
  "language_info": {
   "codemirror_mode": {
    "name": "ipython",
    "version": 3
   },
   "file_extension": ".py",
   "mimetype": "text/x-python",
   "name": "python",
   "nbconvert_exporter": "python",
   "pygments_lexer": "ipython3",
   "version": "3.7.6"
  }
 },
 "nbformat": 4,
 "nbformat_minor": 2
}
