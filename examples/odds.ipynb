{
 "cells": [
  {
   "cell_type": "markdown",
   "metadata": {},
   "source": [
    "# Example: Odds and Log Odds\n",
    "\n",
    "Elements of Data Science\n",
    "\n",
    "by [Allen Downey](https://allendowney.com)\n",
    "\n",
    "[MIT License](https://opensource.org/licenses/MIT)"
   ]
  },
  {
   "cell_type": "markdown",
   "metadata": {},
   "source": [
    "## Introduction\n",
    "\n",
    "The goal of this notebook is to review the definitions of probability, odds, and log odds, and to practice computing them.\n",
    "\n",
    "Suppose researchers conduct a study to test a treatment for a potentially deadly disease.\n",
    "\n",
    "Out of 187 patients in the study, 90 are randomly assigned to the control group.  They are treated using the current [standard treatment](https://en.wikipedia.org/wiki/Standard_treatment) for the disease.\n",
    "\n",
    "The other 97 patients are assigned to the \"treatment group\" and given a new, experimental treatment.\n",
    "\n",
    "At the end of the study period, 77 people in the control group are still alive; 13 have died.\n",
    "\n",
    "In the treatment group, 91 patients survive and 6 die.\n",
    "\n",
    "The [case fatality rate](https://en.wikipedia.org/wiki/Case_fatality_rate) in each group is the proportion of patients who died during the study period.\n",
    "\n",
    "Compute the case fatality rates for each group, expressed as a percentage."
   ]
  },
  {
   "cell_type": "code",
   "execution_count": 1,
   "metadata": {},
   "outputs": [],
   "source": [
    "# Solution goes here"
   ]
  },
  {
   "cell_type": "markdown",
   "metadata": {},
   "source": [
    "The fatality rate is lower in the treatment group, so it seems like the new treatment is effective.\n",
    "\n",
    "One way to describe its effectiveness is to report the difference between the fatality rates in the two groups, expressed in percentage points.  What is that [risk difference](https://en.wikipedia.org/wiki/Risk_difference)?"
   ]
  },
  {
   "cell_type": "code",
   "execution_count": 2,
   "metadata": {},
   "outputs": [],
   "source": [
    "# Solution goes here"
   ]
  },
  {
   "cell_type": "markdown",
   "metadata": {},
   "source": [
    "Another way to report the difference is the ratio of the two rates, also known as [relative risk](https://en.wikipedia.org/wiki/Relative_risk).\n",
    "\n",
    "What is the ratio of the two rates?  Which rate do you think makes more sense to put in the denominator?"
   ]
  },
  {
   "cell_type": "code",
   "execution_count": 3,
   "metadata": {},
   "outputs": [],
   "source": [
    "# Solution goes here"
   ]
  },
  {
   "cell_type": "code",
   "execution_count": 4,
   "metadata": {},
   "outputs": [],
   "source": [
    "# Solution goes here"
   ]
  },
  {
   "cell_type": "markdown",
   "metadata": {},
   "source": [
    "##  Odds\n",
    "\n",
    "If the probability of an event is 75%, the odds are \"three to one\" that it will happen, sometimes written as `3:1` or just `3`.\n",
    "\n",
    "If the probability is 33%, the odds are \"one to two\", or `1:2`, or `0.5`.\n",
    "\n",
    "In general, if the probability is `p`, the odds are `p / (1-p)`.\n",
    "\n",
    "What are the fatality rates in the control and treatment groups, expressed as odds?"
   ]
  },
  {
   "cell_type": "code",
   "execution_count": 5,
   "metadata": {},
   "outputs": [],
   "source": [
    "# Solution goes here"
   ]
  },
  {
   "cell_type": "markdown",
   "metadata": {},
   "source": [
    "What is the [odds ratio](https://en.wikipedia.org/wiki/Odds_ratio) for the two groups?  Which one do you think you should put in the denominator?"
   ]
  },
  {
   "cell_type": "code",
   "execution_count": 6,
   "metadata": {},
   "outputs": [],
   "source": [
    "# Solution goes here"
   ]
  },
  {
   "cell_type": "markdown",
   "metadata": {},
   "source": [
    "If the odds ratio is 1, that means the odds are the same in both groups, so the treatment has no effect.\n",
    "\n",
    "If the odds ratio is less than 1, that means the fatality rate is lower in the treatment group, so the treatment is effective."
   ]
  },
  {
   "cell_type": "markdown",
   "metadata": {},
   "source": [
    "## Log odds\n",
    "\n",
    "Yet another way to represent uncertainty is [log-odds](https://en.wikipedia.org/wiki/Logit), which is just what it sounds like, the logarithm of odds.\n",
    "\n",
    "Natural logarithms are used most often, but you will sometimes see logarithms base 10.\n",
    "\n",
    "Use `np.log` to compute the natural log of the odds from the previous section."
   ]
  },
  {
   "cell_type": "code",
   "execution_count": 7,
   "metadata": {},
   "outputs": [],
   "source": [
    "# Solution goes here"
   ]
  },
  {
   "cell_type": "markdown",
   "metadata": {},
   "source": [
    "Finally, compute the [log odds ratio]() for the two groups, which you can compute one of two ways:\n",
    "\n",
    "* Compute the log of the odds ratio.\n",
    "\n",
    "* Compute the difference of the log odds.\n",
    "\n",
    "But do not compute the ratio of the log odds; that's not a thing."
   ]
  },
  {
   "cell_type": "code",
   "execution_count": 8,
   "metadata": {},
   "outputs": [],
   "source": [
    "lo2 / lo1            # Wrong"
   ]
  },
  {
   "cell_type": "code",
   "execution_count": 9,
   "metadata": {},
   "outputs": [],
   "source": [
    "# Solution goes here"
   ]
  },
  {
   "cell_type": "code",
   "execution_count": 10,
   "metadata": {},
   "outputs": [],
   "source": [
    "# Solution goes here"
   ]
  },
  {
   "cell_type": "markdown",
   "metadata": {},
   "source": [
    "If the fatality rates are the same in both group, the odds ratio is 1 and the log odds ratio is 0.\n",
    "\n",
    "If the treatment is effective, the odds ratio is less than 1, so the log odds ratio is less than 0."
   ]
  },
  {
   "cell_type": "markdown",
   "metadata": {},
   "source": [
    "## Natural frequencies\n",
    "\n",
    "Suppose you consider 100 people with this disease.  If you give them the new treatment instead of the standard treatment, how many lives would you expect to save?"
   ]
  },
  {
   "cell_type": "code",
   "execution_count": 11,
   "metadata": {},
   "outputs": [],
   "source": [
    "# Solution goes here"
   ]
  },
  {
   "cell_type": "markdown",
   "metadata": {},
   "source": [
    "What is the name for this statistic?"
   ]
  }
 ],
 "metadata": {
  "kernelspec": {
   "display_name": "Python 3",
   "language": "python",
   "name": "python3"
  },
  "language_info": {
   "codemirror_mode": {
    "name": "ipython",
    "version": 3
   },
   "file_extension": ".py",
   "mimetype": "text/x-python",
   "name": "python",
   "nbconvert_exporter": "python",
   "pygments_lexer": "ipython3",
   "version": "3.7.6"
  }
 },
 "nbformat": 4,
 "nbformat_minor": 2
}
